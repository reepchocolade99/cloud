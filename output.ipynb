{
 "cells": [
  {
   "cell_type": "code",
   "execution_count": 1,
   "id": "e4f7bbbe",
   "metadata": {
    "execution": {
     "iopub.execute_input": "2025-06-19T18:30:44.732533Z",
     "iopub.status.busy": "2025-06-19T18:30:44.732276Z",
     "iopub.status.idle": "2025-06-19T18:30:45.509250Z",
     "shell.execute_reply": "2025-06-19T18:30:45.508880Z"
    },
    "papermill": {
     "duration": 0.784732,
     "end_time": "2025-06-19T18:30:45.510455",
     "exception": false,
     "start_time": "2025-06-19T18:30:44.725723",
     "status": "completed"
    },
    "tags": []
   },
   "outputs": [],
   "source": [
    "import streamlit as st\n",
    "import pandas as pd"
   ]
  },
  {
   "cell_type": "code",
   "execution_count": 2,
   "id": "8def01c1",
   "metadata": {
    "execution": {
     "iopub.execute_input": "2025-06-19T18:30:45.513858Z",
     "iopub.status.busy": "2025-06-19T18:30:45.513568Z",
     "iopub.status.idle": "2025-06-19T18:30:45.515906Z",
     "shell.execute_reply": "2025-06-19T18:30:45.515565Z"
    },
    "papermill": {
     "duration": 0.004886,
     "end_time": "2025-06-19T18:30:45.516843",
     "exception": false,
     "start_time": "2025-06-19T18:30:45.511957",
     "status": "completed"
    },
    "tags": [
     "parameters"
    ]
   },
   "outputs": [],
   "source": [
    "bestand = \"default.csv\""
   ]
  },
  {
   "cell_type": "code",
   "execution_count": 3,
   "id": "1d8eadd7",
   "metadata": {
    "execution": {
     "iopub.execute_input": "2025-06-19T18:30:45.519462Z",
     "iopub.status.busy": "2025-06-19T18:30:45.519279Z",
     "iopub.status.idle": "2025-06-19T18:30:45.521347Z",
     "shell.execute_reply": "2025-06-19T18:30:45.521043Z"
    },
    "papermill": {
     "duration": 0.004309,
     "end_time": "2025-06-19T18:30:45.522265",
     "exception": false,
     "start_time": "2025-06-19T18:30:45.517956",
     "status": "completed"
    },
    "tags": [
     "injected-parameters"
    ]
   },
   "outputs": [],
   "source": [
    "# Parameters\n",
    "bestand = \"dashboard_input.csv\"\n"
   ]
  },
  {
   "cell_type": "code",
   "execution_count": 4,
   "id": "c0562004",
   "metadata": {
    "execution": {
     "iopub.execute_input": "2025-06-19T18:30:45.525603Z",
     "iopub.status.busy": "2025-06-19T18:30:45.525420Z",
     "iopub.status.idle": "2025-06-19T18:30:45.883807Z",
     "shell.execute_reply": "2025-06-19T18:30:45.883518Z"
    },
    "papermill": {
     "duration": 0.361347,
     "end_time": "2025-06-19T18:30:45.884729",
     "exception": false,
     "start_time": "2025-06-19T18:30:45.523382",
     "status": "completed"
    },
    "tags": []
   },
   "outputs": [
    {
     "name": "stderr",
     "output_type": "stream",
     "text": [
      "2025-06-19 20:30:45.526 WARNING streamlit.runtime.scriptrunner_utils.script_run_context: Thread 'MainThread': missing ScriptRunContext! This warning can be ignored when running in bare mode.\n"
     ]
    },
    {
     "name": "stderr",
     "output_type": "stream",
     "text": [
      "2025-06-19 20:30:45.528 WARNING streamlit.runtime.scriptrunner_utils.script_run_context: Thread 'MainThread': missing ScriptRunContext! This warning can be ignored when running in bare mode.\n"
     ]
    },
    {
     "name": "stderr",
     "output_type": "stream",
     "text": [
      "2025-06-19 20:30:45.528 WARNING streamlit.runtime.scriptrunner_utils.script_run_context: Thread 'MainThread': missing ScriptRunContext! This warning can be ignored when running in bare mode.\n"
     ]
    },
    {
     "name": "stderr",
     "output_type": "stream",
     "text": [
      "2025-06-19 20:30:45.528 WARNING streamlit.runtime.scriptrunner_utils.script_run_context: Thread 'MainThread': missing ScriptRunContext! This warning can be ignored when running in bare mode.\n"
     ]
    },
    {
     "name": "stderr",
     "output_type": "stream",
     "text": [
      "2025-06-19 20:30:45.563 WARNING streamlit.runtime.scriptrunner_utils.script_run_context: Thread 'MainThread': missing ScriptRunContext! This warning can be ignored when running in bare mode.\n"
     ]
    },
    {
     "name": "stderr",
     "output_type": "stream",
     "text": [
      "2025-06-19 20:30:45.564 WARNING streamlit.runtime.state.session_state_proxy: Session state does not function when running a script without `streamlit run`\n"
     ]
    },
    {
     "name": "stderr",
     "output_type": "stream",
     "text": [
      "2025-06-19 20:30:45.564 WARNING streamlit.runtime.scriptrunner_utils.script_run_context: Thread 'MainThread': missing ScriptRunContext! This warning can be ignored when running in bare mode.\n"
     ]
    },
    {
     "name": "stderr",
     "output_type": "stream",
     "text": [
      "2025-06-19 20:30:45.659 \n",
      "  \u001b[33m\u001b[1mWarning:\u001b[0m to view this Streamlit app on a browser, run it with the following\n",
      "  command:\n",
      "\n",
      "    streamlit run /Library/Frameworks/Python.framework/Versions/3.13/lib/python3.13/site-packages/ipykernel_launcher.py [ARGUMENTS]\n"
     ]
    },
    {
     "name": "stderr",
     "output_type": "stream",
     "text": [
      "2025-06-19 20:30:45.660 Thread 'MainThread': missing ScriptRunContext! This warning can be ignored when running in bare mode.\n"
     ]
    },
    {
     "name": "stderr",
     "output_type": "stream",
     "text": [
      "2025-06-19 20:30:45.660 Thread 'MainThread': missing ScriptRunContext! This warning can be ignored when running in bare mode.\n"
     ]
    },
    {
     "name": "stderr",
     "output_type": "stream",
     "text": [
      "2025-06-19 20:30:45.878 Thread 'MainThread': missing ScriptRunContext! This warning can be ignored when running in bare mode.\n"
     ]
    },
    {
     "name": "stderr",
     "output_type": "stream",
     "text": [
      "2025-06-19 20:30:45.879 Thread 'MainThread': missing ScriptRunContext! This warning can be ignored when running in bare mode.\n"
     ]
    },
    {
     "name": "stderr",
     "output_type": "stream",
     "text": [
      "2025-06-19 20:30:45.879 Thread 'MainThread': missing ScriptRunContext! This warning can be ignored when running in bare mode.\n"
     ]
    },
    {
     "data": {
      "text/plain": [
       "DeltaGenerator()"
      ]
     },
     "execution_count": 4,
     "metadata": {},
     "output_type": "execute_result"
    }
   ],
   "source": [
    "\n",
    "st.set_page_config(layout=\"wide\")\n",
    "\n",
    "dataset_names = [\n",
    "    \"a97fe24e\",\n",
    "    \"b8994569\",\n",
    "    \"a6177608\",\n",
    "    \"f6fec747\",\n",
    "    \"5f67cb23\",\n",
    "    \"11cdff15\"\n",
    "]\n",
    "\n",
    "selected_dataset = st.selectbox(\"Choose machinetype:\", dataset_names)\n",
    "\n",
    "outliers = pd.read_csv(f\"combined/outliers/outlier_{selected_dataset}.csv\", index_col=0)\n",
    "\n",
    "# Plot de grafiek\n",
    "st.bar_chart(outliers)\n"
   ]
  }
 ],
 "metadata": {
  "kernelspec": {
   "display_name": "Python 3",
   "language": "python",
   "name": "python3"
  },
  "language_info": {
   "codemirror_mode": {
    "name": "ipython",
    "version": 3
   },
   "file_extension": ".py",
   "mimetype": "text/x-python",
   "name": "python",
   "nbconvert_exporter": "python",
   "pygments_lexer": "ipython3",
   "version": "3.13.3"
  },
  "papermill": {
   "default_parameters": {},
   "duration": 2.609033,
   "end_time": "2025-06-19T18:30:46.205249",
   "environment_variables": {},
   "exception": null,
   "input_path": "dashboard.ipynb",
   "output_path": "output.ipynb",
   "parameters": {
    "bestand": "dashboard_input.csv"
   },
   "start_time": "2025-06-19T18:30:43.596216",
   "version": "2.6.0"
  }
 },
 "nbformat": 4,
 "nbformat_minor": 5
}
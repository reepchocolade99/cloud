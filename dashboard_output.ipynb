{
 "cells": [
  {
   "cell_type": "code",
   "execution_count": 1,
   "id": "e4f7bbbe",
   "metadata": {
    "execution": {
     "iopub.execute_input": "2025-06-19T18:39:58.487471Z",
     "iopub.status.busy": "2025-06-19T18:39:58.487262Z",
     "iopub.status.idle": "2025-06-19T18:39:59.249407Z",
     "shell.execute_reply": "2025-06-19T18:39:59.248943Z"
    },
    "papermill": {
     "duration": 0.765992,
     "end_time": "2025-06-19T18:39:59.250636",
     "exception": false,
     "start_time": "2025-06-19T18:39:58.484644",
     "status": "completed"
    },
    "tags": []
   },
   "outputs": [],
   "source": [
    "import streamlit as st\n",
    "import pandas as pd"
   ]
  },
  {
   "cell_type": "code",
   "execution_count": 2,
   "id": "8def01c1",
   "metadata": {
    "execution": {
     "iopub.execute_input": "2025-06-19T18:39:59.253645Z",
     "iopub.status.busy": "2025-06-19T18:39:59.253404Z",
     "iopub.status.idle": "2025-06-19T18:39:59.255584Z",
     "shell.execute_reply": "2025-06-19T18:39:59.255272Z"
    },
    "papermill": {
     "duration": 0.00437,
     "end_time": "2025-06-19T18:39:59.256468",
     "exception": false,
     "start_time": "2025-06-19T18:39:59.252098",
     "status": "completed"
    },
    "tags": [
     "parameters"
    ]
   },
   "outputs": [],
   "source": [
    "\n",
    "bestand = \"dashboard_input.csv\"\n"
   ]
  },
  {
   "cell_type": "code",
   "execution_count": 3,
   "id": "3f8b4950",
   "metadata": {
    "execution": {
     "iopub.execute_input": "2025-06-19T18:39:59.258938Z",
     "iopub.status.busy": "2025-06-19T18:39:59.258775Z",
     "iopub.status.idle": "2025-06-19T18:39:59.260794Z",
     "shell.execute_reply": "2025-06-19T18:39:59.260416Z"
    },
    "papermill": {
     "duration": 0.004148,
     "end_time": "2025-06-19T18:39:59.261631",
     "exception": false,
     "start_time": "2025-06-19T18:39:59.257483",
     "status": "completed"
    },
    "tags": [
     "injected-parameters"
    ]
   },
   "outputs": [],
   "source": [
    "# Parameters\n",
    "bestand = \"dashboard_input.csv\"\n"
   ]
  },
  {
   "cell_type": "code",
   "execution_count": 4,
   "id": "c0562004",
   "metadata": {
    "execution": {
     "iopub.execute_input": "2025-06-19T18:39:59.264173Z",
     "iopub.status.busy": "2025-06-19T18:39:59.264026Z",
     "iopub.status.idle": "2025-06-19T18:39:59.961395Z",
     "shell.execute_reply": "2025-06-19T18:39:59.961067Z"
    },
    "papermill": {
     "duration": 0.699959,
     "end_time": "2025-06-19T18:39:59.962553",
     "exception": false,
     "start_time": "2025-06-19T18:39:59.262594",
     "status": "completed"
    },
    "tags": []
   },
   "outputs": [
    {
     "name": "stderr",
     "output_type": "stream",
     "text": [
      "2025-06-19 20:39:59.265 WARNING streamlit.runtime.scriptrunner_utils.script_run_context: Thread 'MainThread': missing ScriptRunContext! This warning can be ignored when running in bare mode.\n"
     ]
    },
    {
     "name": "stderr",
     "output_type": "stream",
     "text": [
      "2025-06-19 20:39:59.265 WARNING streamlit.runtime.scriptrunner_utils.script_run_context: Thread 'MainThread': missing ScriptRunContext! This warning can be ignored when running in bare mode.\n"
     ]
    },
    {
     "name": "stderr",
     "output_type": "stream",
     "text": [
      "2025-06-19 20:39:59.266 WARNING streamlit.runtime.scriptrunner_utils.script_run_context: Thread 'MainThread': missing ScriptRunContext! This warning can be ignored when running in bare mode.\n"
     ]
    },
    {
     "name": "stderr",
     "output_type": "stream",
     "text": [
      "2025-06-19 20:39:59.266 WARNING streamlit.runtime.scriptrunner_utils.script_run_context: Thread 'MainThread': missing ScriptRunContext! This warning can be ignored when running in bare mode.\n"
     ]
    },
    {
     "name": "stderr",
     "output_type": "stream",
     "text": [
      "2025-06-19 20:39:59.301 WARNING streamlit.runtime.scriptrunner_utils.script_run_context: Thread 'MainThread': missing ScriptRunContext! This warning can be ignored when running in bare mode.\n"
     ]
    },
    {
     "name": "stderr",
     "output_type": "stream",
     "text": [
      "2025-06-19 20:39:59.301 WARNING streamlit.runtime.state.session_state_proxy: Session state does not function when running a script without `streamlit run`\n"
     ]
    },
    {
     "name": "stderr",
     "output_type": "stream",
     "text": [
      "2025-06-19 20:39:59.302 WARNING streamlit.runtime.scriptrunner_utils.script_run_context: Thread 'MainThread': missing ScriptRunContext! This warning can be ignored when running in bare mode.\n"
     ]
    },
    {
     "name": "stderr",
     "output_type": "stream",
     "text": [
      "2025-06-19 20:39:59.406 \n",
      "  \u001b[33m\u001b[1mWarning:\u001b[0m to view this Streamlit app on a browser, run it with the following\n",
      "  command:\n",
      "\n",
      "    streamlit run /Library/Frameworks/Python.framework/Versions/3.13/lib/python3.13/site-packages/ipykernel_launcher.py [ARGUMENTS]\n"
     ]
    },
    {
     "name": "stderr",
     "output_type": "stream",
     "text": [
      "2025-06-19 20:39:59.406 Thread 'MainThread': missing ScriptRunContext! This warning can be ignored when running in bare mode.\n"
     ]
    },
    {
     "name": "stderr",
     "output_type": "stream",
     "text": [
      "2025-06-19 20:39:59.407 Thread 'MainThread': missing ScriptRunContext! This warning can be ignored when running in bare mode.\n"
     ]
    },
    {
     "name": "stderr",
     "output_type": "stream",
     "text": [
      "2025-06-19 20:39:59.955 Thread 'MainThread': missing ScriptRunContext! This warning can be ignored when running in bare mode.\n"
     ]
    },
    {
     "name": "stderr",
     "output_type": "stream",
     "text": [
      "2025-06-19 20:39:59.956 Thread 'MainThread': missing ScriptRunContext! This warning can be ignored when running in bare mode.\n"
     ]
    },
    {
     "name": "stderr",
     "output_type": "stream",
     "text": [
      "2025-06-19 20:39:59.956 Thread 'MainThread': missing ScriptRunContext! This warning can be ignored when running in bare mode.\n"
     ]
    },
    {
     "data": {
      "text/plain": [
       "DeltaGenerator()"
      ]
     },
     "execution_count": 4,
     "metadata": {},
     "output_type": "execute_result"
    }
   ],
   "source": [
    "\n",
    "st.set_page_config(layout=\"wide\")\n",
    "\n",
    "dataset_names = [\n",
    "    \"a97fe24e\",\n",
    "    \"b8994569\",\n",
    "    \"a6177608\",\n",
    "    \"f6fec747\",\n",
    "    \"5f67cb23\",\n",
    "    \"11cdff15\"\n",
    "]\n",
    "\n",
    "selected_dataset = st.selectbox(\"Choose machinetype:\", dataset_names)\n",
    "\n",
    "outliers = pd.read_csv(f\"combined/outliers/outlier_{selected_dataset}.csv\", index_col=0)\n",
    "\n",
    "# Plot de grafiek\n",
    "st.bar_chart(outliers)\n"
   ]
  }
 ],
 "metadata": {
  "kernelspec": {
   "display_name": "Python 3",
   "language": "python",
   "name": "python3"
  },
  "language_info": {
   "codemirror_mode": {
    "name": "ipython",
    "version": 3
   },
   "file_extension": ".py",
   "mimetype": "text/x-python",
   "name": "python",
   "nbconvert_exporter": "python",
   "pygments_lexer": "ipython3",
   "version": "3.13.3"
  },
  "papermill": {
   "default_parameters": {},
   "duration": 2.944934,
   "end_time": "2025-06-19T18:40:00.283832",
   "environment_variables": {},
   "exception": null,
   "input_path": "dashboard.ipynb",
   "output_path": "dashboard_output.ipynb",
   "parameters": {
    "bestand": "dashboard_input.csv"
   },
   "start_time": "2025-06-19T18:39:57.338898",
   "version": "2.6.0"
  }
 },
 "nbformat": 4,
 "nbformat_minor": 5
}